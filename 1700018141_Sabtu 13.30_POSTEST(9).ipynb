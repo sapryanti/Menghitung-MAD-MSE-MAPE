{
 "cells": [
  {
   "cell_type": "code",
   "execution_count": 1,
   "metadata": {},
   "outputs": [],
   "source": [
    "import pandas as pd\n",
    "from openpyxl import load_workbook\n",
    "from sklearn import preprocessing as pre\n",
    "from sklearn.svm import SVR\n",
    "from sklearn.metrics import mean_absolute_error"
   ]
  },
  {
   "cell_type": "code",
   "execution_count": 7,
   "metadata": {},
   "outputs": [
    {
     "data": {
      "text/html": [
       "<div>\n",
       "<style scoped>\n",
       "    .dataframe tbody tr th:only-of-type {\n",
       "        vertical-align: middle;\n",
       "    }\n",
       "\n",
       "    .dataframe tbody tr th {\n",
       "        vertical-align: top;\n",
       "    }\n",
       "\n",
       "    .dataframe thead th {\n",
       "        text-align: right;\n",
       "    }\n",
       "</style>\n",
       "<table border=\"1\" class=\"dataframe\">\n",
       "  <thead>\n",
       "    <tr style=\"text-align: right;\">\n",
       "      <th></th>\n",
       "      <th>no</th>\n",
       "      <th>nim</th>\n",
       "      <th>nama</th>\n",
       "      <th>ttl</th>\n",
       "      <th>fakultas_ketrampilan</th>\n",
       "      <th>alamat</th>\n",
       "      <th>tahun_masuk</th>\n",
       "      <th>tahun_lulus</th>\n",
       "      <th>status_pekerjaan</th>\n",
       "      <th>lama_masa_tunggu</th>\n",
       "      <th>gaji_pertama</th>\n",
       "      <th>toefl</th>\n",
       "      <th>ipk</th>\n",
       "    </tr>\n",
       "  </thead>\n",
       "  <tbody>\n",
       "    <tr>\n",
       "      <td>1</td>\n",
       "      <td>1</td>\n",
       "      <td>9018263</td>\n",
       "      <td>Puguh Drajat E.P</td>\n",
       "      <td>Purworejo, 4 November 1989</td>\n",
       "      <td>FTI / Teknik Iformatika</td>\n",
       "      <td>Tangerang Rt. 01/ 0</td>\n",
       "      <td>2009</td>\n",
       "      <td>2016</td>\n",
       "      <td>None</td>\n",
       "      <td>2.4</td>\n",
       "      <td>1.47563e+06</td>\n",
       "      <td>390</td>\n",
       "      <td>2,13</td>\n",
       "    </tr>\n",
       "    <tr>\n",
       "      <td>2</td>\n",
       "      <td>2</td>\n",
       "      <td>12022030</td>\n",
       "      <td>Arsyad Cahya Subrata</td>\n",
       "      <td>Bantul, 21 juni 1994</td>\n",
       "      <td>FTI / Teknik Elektro</td>\n",
       "      <td>Karangpule Rt.01 , Tirtonirmolo , Kasihan Bantul</td>\n",
       "      <td>2012</td>\n",
       "      <td>2016</td>\n",
       "      <td>None</td>\n",
       "      <td>None</td>\n",
       "      <td>None</td>\n",
       "      <td>None</td>\n",
       "      <td>None</td>\n",
       "    </tr>\n",
       "    <tr>\n",
       "      <td>3</td>\n",
       "      <td>3</td>\n",
       "      <td>12020021</td>\n",
       "      <td>Yesi Novela</td>\n",
       "      <td>Tempilang, 1 januari 1995</td>\n",
       "      <td>FTI</td>\n",
       "      <td>None</td>\n",
       "      <td>2012</td>\n",
       "      <td>2016</td>\n",
       "      <td>Mahasiswa</td>\n",
       "      <td>2.4</td>\n",
       "      <td>1.47563e+06</td>\n",
       "      <td>None</td>\n",
       "      <td>None</td>\n",
       "    </tr>\n",
       "    <tr>\n",
       "      <td>4</td>\n",
       "      <td>4</td>\n",
       "      <td>9018269</td>\n",
       "      <td>Pandu Herwijaya</td>\n",
       "      <td>Lampung, 19 Desember 1990</td>\n",
       "      <td>FTI/ Teknik Infomatika</td>\n",
       "      <td>Tamantirto, Kasihan ,Bantul</td>\n",
       "      <td>2009</td>\n",
       "      <td>2016</td>\n",
       "      <td>None</td>\n",
       "      <td>2.4</td>\n",
       "      <td>1475634</td>\n",
       "      <td>413</td>\n",
       "      <td>2,75</td>\n",
       "    </tr>\n",
       "    <tr>\n",
       "      <td>5</td>\n",
       "      <td>5</td>\n",
       "      <td>9018109</td>\n",
       "      <td>Anjar Prasetyo</td>\n",
       "      <td>Gunungkidul, 27 April 1991</td>\n",
       "      <td>FTI /Teknik Informatika</td>\n",
       "      <td>Umbulharjo , Yogyakarta</td>\n",
       "      <td>2009</td>\n",
       "      <td>2016</td>\n",
       "      <td>None</td>\n",
       "      <td>None</td>\n",
       "      <td>None</td>\n",
       "      <td>None</td>\n",
       "      <td>None</td>\n",
       "    </tr>\n",
       "    <tr>\n",
       "      <td>6</td>\n",
       "      <td>6</td>\n",
       "      <td>9020026</td>\n",
       "      <td>Moh. Dadi Kurniawan</td>\n",
       "      <td>Savanajaya, 27 Maret 1992</td>\n",
       "      <td>FTI / Futsal</td>\n",
       "      <td>Saren Rt. 02 Rw. 01 Caturtunggal</td>\n",
       "      <td>2009</td>\n",
       "      <td>2016</td>\n",
       "      <td>None</td>\n",
       "      <td>2.4</td>\n",
       "      <td>1.47563e+06</td>\n",
       "      <td>400</td>\n",
       "      <td>3,24</td>\n",
       "    </tr>\n",
       "    <tr>\n",
       "      <td>7</td>\n",
       "      <td>7</td>\n",
       "      <td>12018060</td>\n",
       "      <td>Martin Sarlina</td>\n",
       "      <td>Lepak, 23 Maret 1994</td>\n",
       "      <td>FTI</td>\n",
       "      <td>NTB</td>\n",
       "      <td>2012</td>\n",
       "      <td>2016</td>\n",
       "      <td>None</td>\n",
       "      <td>2.4</td>\n",
       "      <td>1.47563e+06</td>\n",
       "      <td>396</td>\n",
       "      <td>3,27</td>\n",
       "    </tr>\n",
       "    <tr>\n",
       "      <td>8</td>\n",
       "      <td>8</td>\n",
       "      <td>11018022</td>\n",
       "      <td>Yan Adhi Permadi</td>\n",
       "      <td>Jepara, 22 juni 1993</td>\n",
       "      <td>FTI</td>\n",
       "      <td>Umbulharjo V</td>\n",
       "      <td>2011</td>\n",
       "      <td>2016</td>\n",
       "      <td>Wiraswasta</td>\n",
       "      <td>2.4</td>\n",
       "      <td>1.47563e+06</td>\n",
       "      <td>460</td>\n",
       "      <td>3,20</td>\n",
       "    </tr>\n",
       "    <tr>\n",
       "      <td>9</td>\n",
       "      <td>9</td>\n",
       "      <td>9018212</td>\n",
       "      <td>Achicha Wahyuni</td>\n",
       "      <td>Yogyakarta, 3 juni 1991</td>\n",
       "      <td>FTI/ Web Design</td>\n",
       "      <td>Noyokerten, Sendangirto, Berbah</td>\n",
       "      <td>2009</td>\n",
       "      <td>2016</td>\n",
       "      <td>Guru</td>\n",
       "      <td>0</td>\n",
       "      <td>600000</td>\n",
       "      <td>403</td>\n",
       "      <td>3,24</td>\n",
       "    </tr>\n",
       "    <tr>\n",
       "      <td>10</td>\n",
       "      <td>10</td>\n",
       "      <td>9018301</td>\n",
       "      <td>Yayan Tisna Permadi</td>\n",
       "      <td>Purbalingga, 08 Oktober 1991</td>\n",
       "      <td>FTI/ Teknik Inormatika</td>\n",
       "      <td>Tajug, Rt.04/ 05 Purbalingga</td>\n",
       "      <td>2009</td>\n",
       "      <td>2016</td>\n",
       "      <td>None</td>\n",
       "      <td>2.4</td>\n",
       "      <td>1.47563e+06</td>\n",
       "      <td>450</td>\n",
       "      <td>3,06</td>\n",
       "    </tr>\n",
       "    <tr>\n",
       "      <td>11</td>\n",
       "      <td>11</td>\n",
       "      <td>12022020</td>\n",
       "      <td>Muh. Rama dhai</td>\n",
       "      <td>Pekanbaru, 29 Maret 1992</td>\n",
       "      <td>FTI / Teknik Elektro</td>\n",
       "      <td>Karongan Rt/Rw. 04/11 Jogotirto, Berbah Sleman</td>\n",
       "      <td>2012</td>\n",
       "      <td>2016</td>\n",
       "      <td>None</td>\n",
       "      <td>2.4</td>\n",
       "      <td>1200000</td>\n",
       "      <td>423</td>\n",
       "      <td>3.47</td>\n",
       "    </tr>\n",
       "    <tr>\n",
       "      <td>12</td>\n",
       "      <td>12</td>\n",
       "      <td>12022038</td>\n",
       "      <td>Nurwahyuddi</td>\n",
       "      <td>Dili, timor-timur/ 13 April 1995</td>\n",
       "      <td>FTI / Teknik Elektro</td>\n",
       "      <td>Juru Gentong J V/407 C Banguntapan</td>\n",
       "      <td>2012</td>\n",
       "      <td>2016</td>\n",
       "      <td>Mahasiswa</td>\n",
       "      <td>2.4</td>\n",
       "      <td>1.47563e+06</td>\n",
       "      <td>413</td>\n",
       "      <td>3,62</td>\n",
       "    </tr>\n",
       "    <tr>\n",
       "      <td>13</td>\n",
       "      <td>13</td>\n",
       "      <td>12019039</td>\n",
       "      <td>Agus Purnomo</td>\n",
       "      <td>Klaten, 2 Agustus 1992</td>\n",
       "      <td>FTI/ Teknik Industri</td>\n",
       "      <td>Dukuh Glagahwangi, Polanharjo</td>\n",
       "      <td>2012</td>\n",
       "      <td>2016</td>\n",
       "      <td>None</td>\n",
       "      <td>2.4</td>\n",
       "      <td>1.47563e+06</td>\n",
       "      <td>480</td>\n",
       "      <td>3,32</td>\n",
       "    </tr>\n",
       "    <tr>\n",
       "      <td>14</td>\n",
       "      <td>14</td>\n",
       "      <td>11018111</td>\n",
       "      <td>M. Akhwan Zulfayandi</td>\n",
       "      <td>Teros, 12 September 1992</td>\n",
       "      <td>FTI/ Teknik Informatika</td>\n",
       "      <td>Jl. Peumnas gg. Indragiri Blok B/24, Condongcatur</td>\n",
       "      <td>2011</td>\n",
       "      <td>2016</td>\n",
       "      <td>None</td>\n",
       "      <td>2.4</td>\n",
       "      <td>1.47563e+06</td>\n",
       "      <td>406</td>\n",
       "      <td>3,14</td>\n",
       "    </tr>\n",
       "    <tr>\n",
       "      <td>15</td>\n",
       "      <td>15</td>\n",
       "      <td>9018135</td>\n",
       "      <td>Yunita Tri Hernawai</td>\n",
       "      <td>Magelang, 20 Juni 1991</td>\n",
       "      <td>FTI/ Teknik Informatika</td>\n",
       "      <td>Magelang</td>\n",
       "      <td>2009</td>\n",
       "      <td>2016</td>\n",
       "      <td>Swasta</td>\n",
       "      <td>1</td>\n",
       "      <td>1500000</td>\n",
       "      <td>423</td>\n",
       "      <td>2,99</td>\n",
       "    </tr>\n",
       "    <tr>\n",
       "      <td>16</td>\n",
       "      <td>16</td>\n",
       "      <td>12018161</td>\n",
       "      <td>Pratama Setya Aji</td>\n",
       "      <td>Sleman, 20 September 1994</td>\n",
       "      <td>FTI</td>\n",
       "      <td>Jl. Affandi gg.Kamboja CTX.19 Yogyakarta</td>\n",
       "      <td>2012</td>\n",
       "      <td>2016</td>\n",
       "      <td>Freelance</td>\n",
       "      <td>0</td>\n",
       "      <td>750000</td>\n",
       "      <td>400</td>\n",
       "      <td>3,60</td>\n",
       "    </tr>\n",
       "  </tbody>\n",
       "</table>\n",
       "</div>"
      ],
      "text/plain": [
       "    no       nim                  nama                               ttl  \\\n",
       "1    1   9018263      Puguh Drajat E.P        Purworejo, 4 November 1989   \n",
       "2    2  12022030  Arsyad Cahya Subrata              Bantul, 21 juni 1994   \n",
       "3    3  12020021          Yesi Novela          Tempilang, 1 januari 1995   \n",
       "4    4   9018269       Pandu Herwijaya         Lampung, 19 Desember 1990   \n",
       "5    5   9018109        Anjar Prasetyo        Gunungkidul, 27 April 1991   \n",
       "6    6   9020026   Moh. Dadi Kurniawan         Savanajaya, 27 Maret 1992   \n",
       "7    7  12018060        Martin Sarlina              Lepak, 23 Maret 1994   \n",
       "8    8  11018022      Yan Adhi Permadi              Jepara, 22 juni 1993   \n",
       "9    9   9018212       Achicha Wahyuni           Yogyakarta, 3 juni 1991   \n",
       "10  10   9018301   Yayan Tisna Permadi      Purbalingga, 08 Oktober 1991   \n",
       "11  11  12022020        Muh. Rama dhai          Pekanbaru, 29 Maret 1992   \n",
       "12  12  12022038           Nurwahyuddi  Dili, timor-timur/ 13 April 1995   \n",
       "13  13  12019039          Agus Purnomo            Klaten, 2 Agustus 1992   \n",
       "14  14  11018111  M. Akhwan Zulfayandi          Teros, 12 September 1992   \n",
       "15  15   9018135   Yunita Tri Hernawai            Magelang, 20 Juni 1991   \n",
       "16  16  12018161     Pratama Setya Aji         Sleman, 20 September 1994   \n",
       "\n",
       "       fakultas_ketrampilan  \\\n",
       "1   FTI / Teknik Iformatika   \n",
       "2      FTI / Teknik Elektro   \n",
       "3                       FTI   \n",
       "4    FTI/ Teknik Infomatika   \n",
       "5   FTI /Teknik Informatika   \n",
       "6              FTI / Futsal   \n",
       "7                       FTI   \n",
       "8                       FTI   \n",
       "9           FTI/ Web Design   \n",
       "10   FTI/ Teknik Inormatika   \n",
       "11     FTI / Teknik Elektro   \n",
       "12     FTI / Teknik Elektro   \n",
       "13     FTI/ Teknik Industri   \n",
       "14  FTI/ Teknik Informatika   \n",
       "15  FTI/ Teknik Informatika   \n",
       "16                      FTI   \n",
       "\n",
       "                                               alamat tahun_masuk tahun_lulus  \\\n",
       "1                                 Tangerang Rt. 01/ 0        2009        2016   \n",
       "2    Karangpule Rt.01 , Tirtonirmolo , Kasihan Bantul        2012        2016   \n",
       "3                                                None        2012        2016   \n",
       "4                         Tamantirto, Kasihan ,Bantul        2009        2016   \n",
       "5                             Umbulharjo , Yogyakarta        2009        2016   \n",
       "6                   Saren Rt. 02 Rw. 01 Caturtunggal         2009        2016   \n",
       "7                                                 NTB        2012        2016   \n",
       "8                                        Umbulharjo V        2011        2016   \n",
       "9                     Noyokerten, Sendangirto, Berbah        2009        2016   \n",
       "10                       Tajug, Rt.04/ 05 Purbalingga        2009        2016   \n",
       "11     Karongan Rt/Rw. 04/11 Jogotirto, Berbah Sleman        2012        2016   \n",
       "12                 Juru Gentong J V/407 C Banguntapan        2012        2016   \n",
       "13                      Dukuh Glagahwangi, Polanharjo        2012        2016   \n",
       "14  Jl. Peumnas gg. Indragiri Blok B/24, Condongcatur        2011        2016   \n",
       "15                                           Magelang        2009        2016   \n",
       "16           Jl. Affandi gg.Kamboja CTX.19 Yogyakarta        2012        2016   \n",
       "\n",
       "   status_pekerjaan lama_masa_tunggu gaji_pertama toefl   ipk  \n",
       "1              None              2.4  1.47563e+06   390  2,13  \n",
       "2              None             None         None  None  None  \n",
       "3         Mahasiswa              2.4  1.47563e+06  None  None  \n",
       "4              None              2.4      1475634   413  2,75  \n",
       "5              None             None         None  None  None  \n",
       "6              None              2.4  1.47563e+06   400  3,24  \n",
       "7              None              2.4  1.47563e+06   396  3,27  \n",
       "8        Wiraswasta              2.4  1.47563e+06   460  3,20  \n",
       "9              Guru                0       600000   403  3,24  \n",
       "10             None              2.4  1.47563e+06   450  3,06  \n",
       "11             None              2.4      1200000   423  3.47  \n",
       "12        Mahasiswa              2.4  1.47563e+06   413  3,62  \n",
       "13             None              2.4  1.47563e+06   480  3,32  \n",
       "14             None              2.4  1.47563e+06   406  3,14  \n",
       "15           Swasta                1      1500000   423  2,99  \n",
       "16        Freelance                0       750000   400  3,60  "
      ]
     },
     "execution_count": 7,
     "metadata": {},
     "output_type": "execute_result"
    }
   ],
   "source": [
    "df = load_workbook(filename=\"Data Alumni.xlsx\")\n",
    "rangesheet = df['Sheet5']\n",
    "column = ['no','nim','nama','ttl','fakultas_ketrampilan','alamat','tahun_masuk','tahun_lulus','status_pekerjaan','lama_masa_tunggu','gaji_pertama','toefl','ipk']\n",
    "d = pd.DataFrame(rangesheet.values,columns=column)\n",
    "d = d[1:]\n",
    "d"
   ]
  },
  {
   "cell_type": "code",
   "execution_count": 9,
   "metadata": {},
   "outputs": [
    {
     "data": {
      "text/html": [
       "<div>\n",
       "<style scoped>\n",
       "    .dataframe tbody tr th:only-of-type {\n",
       "        vertical-align: middle;\n",
       "    }\n",
       "\n",
       "    .dataframe tbody tr th {\n",
       "        vertical-align: top;\n",
       "    }\n",
       "\n",
       "    .dataframe thead th {\n",
       "        text-align: right;\n",
       "    }\n",
       "</style>\n",
       "<table border=\"1\" class=\"dataframe\">\n",
       "  <thead>\n",
       "    <tr style=\"text-align: right;\">\n",
       "      <th></th>\n",
       "      <th>tahun_masuk</th>\n",
       "      <th>tahun_lulus</th>\n",
       "      <th>toefl</th>\n",
       "    </tr>\n",
       "  </thead>\n",
       "  <tbody>\n",
       "    <tr>\n",
       "      <td>1</td>\n",
       "      <td>2009</td>\n",
       "      <td>2016</td>\n",
       "      <td>390</td>\n",
       "    </tr>\n",
       "    <tr>\n",
       "      <td>4</td>\n",
       "      <td>2009</td>\n",
       "      <td>2016</td>\n",
       "      <td>413</td>\n",
       "    </tr>\n",
       "    <tr>\n",
       "      <td>6</td>\n",
       "      <td>2009</td>\n",
       "      <td>2016</td>\n",
       "      <td>400</td>\n",
       "    </tr>\n",
       "    <tr>\n",
       "      <td>7</td>\n",
       "      <td>2012</td>\n",
       "      <td>2016</td>\n",
       "      <td>396</td>\n",
       "    </tr>\n",
       "    <tr>\n",
       "      <td>8</td>\n",
       "      <td>2011</td>\n",
       "      <td>2016</td>\n",
       "      <td>460</td>\n",
       "    </tr>\n",
       "    <tr>\n",
       "      <td>9</td>\n",
       "      <td>2009</td>\n",
       "      <td>2016</td>\n",
       "      <td>403</td>\n",
       "    </tr>\n",
       "    <tr>\n",
       "      <td>10</td>\n",
       "      <td>2009</td>\n",
       "      <td>2016</td>\n",
       "      <td>450</td>\n",
       "    </tr>\n",
       "    <tr>\n",
       "      <td>11</td>\n",
       "      <td>2012</td>\n",
       "      <td>2016</td>\n",
       "      <td>423</td>\n",
       "    </tr>\n",
       "    <tr>\n",
       "      <td>12</td>\n",
       "      <td>2012</td>\n",
       "      <td>2016</td>\n",
       "      <td>413</td>\n",
       "    </tr>\n",
       "    <tr>\n",
       "      <td>13</td>\n",
       "      <td>2012</td>\n",
       "      <td>2016</td>\n",
       "      <td>480</td>\n",
       "    </tr>\n",
       "    <tr>\n",
       "      <td>14</td>\n",
       "      <td>2011</td>\n",
       "      <td>2016</td>\n",
       "      <td>406</td>\n",
       "    </tr>\n",
       "    <tr>\n",
       "      <td>15</td>\n",
       "      <td>2009</td>\n",
       "      <td>2016</td>\n",
       "      <td>423</td>\n",
       "    </tr>\n",
       "    <tr>\n",
       "      <td>16</td>\n",
       "      <td>2012</td>\n",
       "      <td>2016</td>\n",
       "      <td>400</td>\n",
       "    </tr>\n",
       "  </tbody>\n",
       "</table>\n",
       "</div>"
      ],
      "text/plain": [
       "   tahun_masuk tahun_lulus toefl\n",
       "1         2009        2016   390\n",
       "4         2009        2016   413\n",
       "6         2009        2016   400\n",
       "7         2012        2016   396\n",
       "8         2011        2016   460\n",
       "9         2009        2016   403\n",
       "10        2009        2016   450\n",
       "11        2012        2016   423\n",
       "12        2012        2016   413\n",
       "13        2012        2016   480\n",
       "14        2011        2016   406\n",
       "15        2009        2016   423\n",
       "16        2012        2016   400"
      ]
     },
     "execution_count": 9,
     "metadata": {},
     "output_type": "execute_result"
    }
   ],
   "source": [
    "da=d[['tahun_masuk','tahun_lulus','toefl']]\n",
    "da.columns = ['tahun_masuk','tahun_lulus','toefl']\n",
    "da = da.dropna(axis=0, how='any')\n",
    "da['toefl'].astype(str).astype(int)\n",
    "da"
   ]
  },
  {
   "cell_type": "code",
   "execution_count": 10,
   "metadata": {},
   "outputs": [
    {
     "name": "stdout",
     "output_type": "stream",
     "text": [
      "tahun_masuk    object\n",
      "tahun_lulus    object\n",
      "toefl          object\n",
      "dtype: object\n"
     ]
    }
   ],
   "source": [
    "print(da.dtypes) #cek type data"
   ]
  },
  {
   "cell_type": "code",
   "execution_count": 11,
   "metadata": {},
   "outputs": [
    {
     "data": {
      "text/html": [
       "<div>\n",
       "<style scoped>\n",
       "    .dataframe tbody tr th:only-of-type {\n",
       "        vertical-align: middle;\n",
       "    }\n",
       "\n",
       "    .dataframe tbody tr th {\n",
       "        vertical-align: top;\n",
       "    }\n",
       "\n",
       "    .dataframe thead th {\n",
       "        text-align: right;\n",
       "    }\n",
       "</style>\n",
       "<table border=\"1\" class=\"dataframe\">\n",
       "  <thead>\n",
       "    <tr style=\"text-align: right;\">\n",
       "      <th></th>\n",
       "      <th>tahun_masuk</th>\n",
       "      <th>tahun_lulus</th>\n",
       "      <th>toefl</th>\n",
       "      <th>masa_studi</th>\n",
       "    </tr>\n",
       "  </thead>\n",
       "  <tbody>\n",
       "    <tr>\n",
       "      <td>1</td>\n",
       "      <td>2009</td>\n",
       "      <td>2016</td>\n",
       "      <td>390</td>\n",
       "      <td>7.0</td>\n",
       "    </tr>\n",
       "    <tr>\n",
       "      <td>4</td>\n",
       "      <td>2009</td>\n",
       "      <td>2016</td>\n",
       "      <td>413</td>\n",
       "      <td>7.0</td>\n",
       "    </tr>\n",
       "    <tr>\n",
       "      <td>6</td>\n",
       "      <td>2009</td>\n",
       "      <td>2016</td>\n",
       "      <td>400</td>\n",
       "      <td>7.0</td>\n",
       "    </tr>\n",
       "    <tr>\n",
       "      <td>7</td>\n",
       "      <td>2012</td>\n",
       "      <td>2016</td>\n",
       "      <td>396</td>\n",
       "      <td>4.0</td>\n",
       "    </tr>\n",
       "    <tr>\n",
       "      <td>8</td>\n",
       "      <td>2011</td>\n",
       "      <td>2016</td>\n",
       "      <td>460</td>\n",
       "      <td>5.0</td>\n",
       "    </tr>\n",
       "    <tr>\n",
       "      <td>9</td>\n",
       "      <td>2009</td>\n",
       "      <td>2016</td>\n",
       "      <td>403</td>\n",
       "      <td>7.0</td>\n",
       "    </tr>\n",
       "    <tr>\n",
       "      <td>10</td>\n",
       "      <td>2009</td>\n",
       "      <td>2016</td>\n",
       "      <td>450</td>\n",
       "      <td>7.0</td>\n",
       "    </tr>\n",
       "    <tr>\n",
       "      <td>11</td>\n",
       "      <td>2012</td>\n",
       "      <td>2016</td>\n",
       "      <td>423</td>\n",
       "      <td>4.0</td>\n",
       "    </tr>\n",
       "    <tr>\n",
       "      <td>12</td>\n",
       "      <td>2012</td>\n",
       "      <td>2016</td>\n",
       "      <td>413</td>\n",
       "      <td>4.0</td>\n",
       "    </tr>\n",
       "    <tr>\n",
       "      <td>13</td>\n",
       "      <td>2012</td>\n",
       "      <td>2016</td>\n",
       "      <td>480</td>\n",
       "      <td>4.0</td>\n",
       "    </tr>\n",
       "    <tr>\n",
       "      <td>14</td>\n",
       "      <td>2011</td>\n",
       "      <td>2016</td>\n",
       "      <td>406</td>\n",
       "      <td>5.0</td>\n",
       "    </tr>\n",
       "    <tr>\n",
       "      <td>15</td>\n",
       "      <td>2009</td>\n",
       "      <td>2016</td>\n",
       "      <td>423</td>\n",
       "      <td>7.0</td>\n",
       "    </tr>\n",
       "    <tr>\n",
       "      <td>16</td>\n",
       "      <td>2012</td>\n",
       "      <td>2016</td>\n",
       "      <td>400</td>\n",
       "      <td>4.0</td>\n",
       "    </tr>\n",
       "  </tbody>\n",
       "</table>\n",
       "</div>"
      ],
      "text/plain": [
       "   tahun_masuk tahun_lulus toefl  masa_studi\n",
       "1         2009        2016   390         7.0\n",
       "4         2009        2016   413         7.0\n",
       "6         2009        2016   400         7.0\n",
       "7         2012        2016   396         4.0\n",
       "8         2011        2016   460         5.0\n",
       "9         2009        2016   403         7.0\n",
       "10        2009        2016   450         7.0\n",
       "11        2012        2016   423         4.0\n",
       "12        2012        2016   413         4.0\n",
       "13        2012        2016   480         4.0\n",
       "14        2011        2016   406         5.0\n",
       "15        2009        2016   423         7.0\n",
       "16        2012        2016   400         4.0"
      ]
     },
     "execution_count": 11,
     "metadata": {},
     "output_type": "execute_result"
    }
   ],
   "source": [
    "for index, row in da.iterrows(): \n",
    "   \n",
    "    da.loc[index, 'masa_studi'] = row['tahun_lulus'] - row['tahun_masuk']\n",
    "da"
   ]
  },
  {
   "cell_type": "code",
   "execution_count": 12,
   "metadata": {},
   "outputs": [
    {
     "data": {
      "text/html": [
       "<div>\n",
       "<style scoped>\n",
       "    .dataframe tbody tr th:only-of-type {\n",
       "        vertical-align: middle;\n",
       "    }\n",
       "\n",
       "    .dataframe tbody tr th {\n",
       "        vertical-align: top;\n",
       "    }\n",
       "\n",
       "    .dataframe thead th {\n",
       "        text-align: right;\n",
       "    }\n",
       "</style>\n",
       "<table border=\"1\" class=\"dataframe\">\n",
       "  <thead>\n",
       "    <tr style=\"text-align: right;\">\n",
       "      <th></th>\n",
       "      <th>toefl</th>\n",
       "      <th>masa_studi</th>\n",
       "    </tr>\n",
       "  </thead>\n",
       "  <tbody>\n",
       "    <tr>\n",
       "      <td>0</td>\n",
       "      <td>390</td>\n",
       "      <td>7.0</td>\n",
       "    </tr>\n",
       "    <tr>\n",
       "      <td>1</td>\n",
       "      <td>413</td>\n",
       "      <td>7.0</td>\n",
       "    </tr>\n",
       "    <tr>\n",
       "      <td>2</td>\n",
       "      <td>400</td>\n",
       "      <td>7.0</td>\n",
       "    </tr>\n",
       "    <tr>\n",
       "      <td>3</td>\n",
       "      <td>396</td>\n",
       "      <td>4.0</td>\n",
       "    </tr>\n",
       "    <tr>\n",
       "      <td>4</td>\n",
       "      <td>460</td>\n",
       "      <td>5.0</td>\n",
       "    </tr>\n",
       "    <tr>\n",
       "      <td>5</td>\n",
       "      <td>403</td>\n",
       "      <td>7.0</td>\n",
       "    </tr>\n",
       "    <tr>\n",
       "      <td>6</td>\n",
       "      <td>450</td>\n",
       "      <td>7.0</td>\n",
       "    </tr>\n",
       "    <tr>\n",
       "      <td>7</td>\n",
       "      <td>423</td>\n",
       "      <td>4.0</td>\n",
       "    </tr>\n",
       "    <tr>\n",
       "      <td>8</td>\n",
       "      <td>413</td>\n",
       "      <td>4.0</td>\n",
       "    </tr>\n",
       "    <tr>\n",
       "      <td>9</td>\n",
       "      <td>480</td>\n",
       "      <td>4.0</td>\n",
       "    </tr>\n",
       "    <tr>\n",
       "      <td>10</td>\n",
       "      <td>406</td>\n",
       "      <td>5.0</td>\n",
       "    </tr>\n",
       "    <tr>\n",
       "      <td>11</td>\n",
       "      <td>423</td>\n",
       "      <td>7.0</td>\n",
       "    </tr>\n",
       "    <tr>\n",
       "      <td>12</td>\n",
       "      <td>400</td>\n",
       "      <td>4.0</td>\n",
       "    </tr>\n",
       "  </tbody>\n",
       "</table>\n",
       "</div>"
      ],
      "text/plain": [
       "   toefl  masa_studi\n",
       "0    390         7.0\n",
       "1    413         7.0\n",
       "2    400         7.0\n",
       "3    396         4.0\n",
       "4    460         5.0\n",
       "5    403         7.0\n",
       "6    450         7.0\n",
       "7    423         4.0\n",
       "8    413         4.0\n",
       "9    480         4.0\n",
       "10   406         5.0\n",
       "11   423         7.0\n",
       "12   400         4.0"
      ]
     },
     "execution_count": 12,
     "metadata": {},
     "output_type": "execute_result"
    }
   ],
   "source": [
    "d_train = da[['toefl','masa_studi']].reset_index(drop=True) \n",
    "d_train"
   ]
  },
  {
   "cell_type": "code",
   "execution_count": 13,
   "metadata": {},
   "outputs": [
    {
     "data": {
      "text/plain": [
       "array([7., 7., 7., 4., 5., 7., 7., 4., 4., 4., 5., 7., 4.])"
      ]
     },
     "execution_count": 13,
     "metadata": {},
     "output_type": "execute_result"
    }
   ],
   "source": [
    "# targetnya predikat\n",
    "tar = d_train['masa_studi'].values \n",
    "tar"
   ]
  },
  {
   "cell_type": "code",
   "execution_count": 14,
   "metadata": {},
   "outputs": [
    {
     "data": {
      "text/plain": [
       "array([[390],\n",
       "       [413],\n",
       "       [400],\n",
       "       [396],\n",
       "       [460],\n",
       "       [403],\n",
       "       [450],\n",
       "       [423],\n",
       "       [413],\n",
       "       [480],\n",
       "       [406],\n",
       "       [423],\n",
       "       [400]], dtype=object)"
      ]
     },
     "execution_count": 14,
     "metadata": {},
     "output_type": "execute_result"
    }
   ],
   "source": [
    "columns = ['toefl']\n",
    "features = d_train[list(columns)].values\n",
    "features"
   ]
  },
  {
   "cell_type": "code",
   "execution_count": 15,
   "metadata": {},
   "outputs": [
    {
     "data": {
      "text/plain": [
       "array([[-1.13289699],\n",
       "       [-0.25760965],\n",
       "       [-0.75233728],\n",
       "       [-0.90456116],\n",
       "       [ 1.531021  ],\n",
       "       [-0.63816936],\n",
       "       [ 1.15046129],\n",
       "       [ 0.12295006],\n",
       "       [-0.25760965],\n",
       "       [ 2.29214042],\n",
       "       [-0.52400145],\n",
       "       [ 0.12295006],\n",
       "       [-0.75233728]])"
      ]
     },
     "execution_count": 15,
     "metadata": {},
     "output_type": "execute_result"
    }
   ],
   "source": [
    "scaler = pre.StandardScaler().fit(features) #menyiapkan feature training \n",
    "x = scaler.transform(features)\n",
    "x"
   ]
  },
  {
   "cell_type": "code",
   "execution_count": 18,
   "metadata": {},
   "outputs": [
    {
     "data": {
      "text/plain": [
       "array([[-1.13289699],\n",
       "       [-0.25760965],\n",
       "       [-0.75233728],\n",
       "       [-0.90456116],\n",
       "       [ 1.531021  ],\n",
       "       [-0.63816936],\n",
       "       [ 1.15046129],\n",
       "       [ 0.12295006],\n",
       "       [-0.25760965],\n",
       "       [ 2.29214042],\n",
       "       [-0.52400145],\n",
       "       [ 0.12295006],\n",
       "       [-0.75233728]])"
      ]
     },
     "execution_count": 18,
     "metadata": {},
     "output_type": "execute_result"
    }
   ],
   "source": [
    "scaler = pre.StandardScaler().fit(features) #menyiapkan feature training \n",
    "y = scaler.transform(features)\n",
    "y"
   ]
  },
  {
   "cell_type": "code",
   "execution_count": 19,
   "metadata": {},
   "outputs": [
    {
     "name": "stderr",
     "output_type": "stream",
     "text": [
      "C:\\ProgramData\\Anaconda3\\lib\\site-packages\\sklearn\\utils\\validation.py:724: DataConversionWarning: A column-vector y was passed when a 1d array was expected. Please change the shape of y to (n_samples, ), for example using ravel().\n",
      "  y = column_or_1d(y, warn=True)\n"
     ]
    },
    {
     "data": {
      "text/plain": [
       "SVR(C=100, cache_size=200, coef0=0.0, degree=3, epsilon=0.1, gamma=0.001,\n",
       "    kernel='linear', max_iter=-1, shrinking=True, tol=0.001, verbose=False)"
      ]
     },
     "execution_count": 19,
     "metadata": {},
     "output_type": "execute_result"
    }
   ],
   "source": [
    "\n",
    "SVR_model = SVR(kernel = 'linear', C=100, gamma=.001).fit(x,y) \n",
    "SVR_model"
   ]
  },
  {
   "cell_type": "code",
   "execution_count": 20,
   "metadata": {},
   "outputs": [
    {
     "data": {
      "text/html": [
       "<div>\n",
       "<style scoped>\n",
       "    .dataframe tbody tr th:only-of-type {\n",
       "        vertical-align: middle;\n",
       "    }\n",
       "\n",
       "    .dataframe tbody tr th {\n",
       "        vertical-align: top;\n",
       "    }\n",
       "\n",
       "    .dataframe thead th {\n",
       "        text-align: right;\n",
       "    }\n",
       "</style>\n",
       "<table border=\"1\" class=\"dataframe\">\n",
       "  <thead>\n",
       "    <tr style=\"text-align: right;\">\n",
       "      <th></th>\n",
       "      <th>toefl</th>\n",
       "      <th>masa_studi</th>\n",
       "    </tr>\n",
       "  </thead>\n",
       "  <tbody>\n",
       "    <tr>\n",
       "      <td>3</td>\n",
       "      <td>396</td>\n",
       "      <td>4.0</td>\n",
       "    </tr>\n",
       "    <tr>\n",
       "      <td>8</td>\n",
       "      <td>413</td>\n",
       "      <td>4.0</td>\n",
       "    </tr>\n",
       "    <tr>\n",
       "      <td>10</td>\n",
       "      <td>406</td>\n",
       "      <td>5.0</td>\n",
       "    </tr>\n",
       "    <tr>\n",
       "      <td>5</td>\n",
       "      <td>403</td>\n",
       "      <td>7.0</td>\n",
       "    </tr>\n",
       "    <tr>\n",
       "      <td>1</td>\n",
       "      <td>413</td>\n",
       "      <td>7.0</td>\n",
       "    </tr>\n",
       "    <tr>\n",
       "      <td>7</td>\n",
       "      <td>423</td>\n",
       "      <td>4.0</td>\n",
       "    </tr>\n",
       "    <tr>\n",
       "      <td>0</td>\n",
       "      <td>390</td>\n",
       "      <td>7.0</td>\n",
       "    </tr>\n",
       "    <tr>\n",
       "      <td>9</td>\n",
       "      <td>480</td>\n",
       "      <td>4.0</td>\n",
       "    </tr>\n",
       "    <tr>\n",
       "      <td>6</td>\n",
       "      <td>450</td>\n",
       "      <td>7.0</td>\n",
       "    </tr>\n",
       "    <tr>\n",
       "      <td>12</td>\n",
       "      <td>400</td>\n",
       "      <td>4.0</td>\n",
       "    </tr>\n",
       "  </tbody>\n",
       "</table>\n",
       "</div>"
      ],
      "text/plain": [
       "   toefl  masa_studi\n",
       "3    396         4.0\n",
       "8    413         4.0\n",
       "10   406         5.0\n",
       "5    403         7.0\n",
       "1    413         7.0\n",
       "7    423         4.0\n",
       "0    390         7.0\n",
       "9    480         4.0\n",
       "6    450         7.0\n",
       "12   400         4.0"
      ]
     },
     "execution_count": 20,
     "metadata": {},
     "output_type": "execute_result"
    }
   ],
   "source": [
    "data_test = d_train.sample(n=10)\n",
    "data_test"
   ]
  },
  {
   "cell_type": "code",
   "execution_count": 21,
   "metadata": {},
   "outputs": [
    {
     "data": {
      "text/plain": [
       "array([[396],\n",
       "       [413],\n",
       "       [406],\n",
       "       [403],\n",
       "       [413],\n",
       "       [423],\n",
       "       [390],\n",
       "       [480],\n",
       "       [450],\n",
       "       [400]], dtype=object)"
      ]
     },
     "execution_count": 21,
     "metadata": {},
     "output_type": "execute_result"
    }
   ],
   "source": [
    "columns = ['toefl']\n",
    "feature_test = data_test[list(columns)].values\n",
    "feature_test"
   ]
  },
  {
   "cell_type": "code",
   "execution_count": 22,
   "metadata": {},
   "outputs": [
    {
     "data": {
      "text/plain": [
       "array([[-0.81466046],\n",
       "       [-0.16750028],\n",
       "       [-0.433978  ],\n",
       "       [-0.54818274],\n",
       "       [-0.16750028],\n",
       "       [ 0.21318218],\n",
       "       [-1.04306994],\n",
       "       [ 2.3830722 ],\n",
       "       [ 1.24102482],\n",
       "       [-0.66238748]])"
      ]
     },
     "execution_count": 22,
     "metadata": {},
     "output_type": "execute_result"
    }
   ],
   "source": [
    "scalertest = pre.StandardScaler().fit(feature_test)\n",
    "test_data= scalertest.transform(feature_test)\n",
    "test_data"
   ]
  },
  {
   "cell_type": "code",
   "execution_count": 23,
   "metadata": {},
   "outputs": [
    {
     "data": {
      "text/plain": [
       "array([-0.73324339, -0.12387318, -0.37479032, -0.48232624, -0.12387318,\n",
       "        0.23457989, -0.94831523,  2.27776235,  1.20240316, -0.58986216])"
      ]
     },
     "execution_count": 23,
     "metadata": {},
     "output_type": "execute_result"
    }
   ],
   "source": [
    "predict = SVR_model.predict(test_data)\n",
    "predict"
   ]
  },
  {
   "cell_type": "code",
   "execution_count": 24,
   "metadata": {},
   "outputs": [
    {
     "data": {
      "text/plain": [
       "array([4., 4., 5., 7., 7., 4., 7., 4., 7., 4.])"
      ]
     },
     "execution_count": 24,
     "metadata": {},
     "output_type": "execute_result"
    }
   ],
   "source": [
    "ytrue = data_test['masa_studi'].values\n",
    "ytrue"
   ]
  },
  {
   "cell_type": "markdown",
   "metadata": {},
   "source": [
    "# MAPE"
   ]
  },
  {
   "cell_type": "code",
   "execution_count": 25,
   "metadata": {},
   "outputs": [],
   "source": [
    "import numpy as np \n",
    "\n",
    "def mean_absolute_percentage_error(y_true, predict):\n",
    "    y_true, predict = np.array(y_true),np.array(predict)\n",
    "    return np.mean(np.abs((y_true-predict))*100)"
   ]
  },
  {
   "cell_type": "code",
   "execution_count": 27,
   "metadata": {},
   "outputs": [
    {
     "data": {
      "text/plain": [
       "526.6153829378854"
      ]
     },
     "execution_count": 27,
     "metadata": {},
     "output_type": "execute_result"
    }
   ],
   "source": [
    " mean_absolute_percentage_error(ytrue, predict)"
   ]
  },
  {
   "cell_type": "markdown",
   "metadata": {},
   "source": [
    "# PROSES MSE"
   ]
  },
  {
   "cell_type": "code",
   "execution_count": 28,
   "metadata": {},
   "outputs": [],
   "source": [
    "from sklearn.metrics import mean_squared_error "
   ]
  },
  {
   "cell_type": "code",
   "execution_count": 29,
   "metadata": {},
   "outputs": [
    {
     "data": {
      "text/plain": [
       "array([4., 4., 5., 7., 7., 4., 7., 4., 7., 4.])"
      ]
     },
     "execution_count": 29,
     "metadata": {},
     "output_type": "execute_result"
    }
   ],
   "source": [
    "ytrue_mse = data_test['masa_studi'].values\n",
    "ytrue_mse"
   ]
  },
  {
   "cell_type": "code",
   "execution_count": 31,
   "metadata": {},
   "outputs": [
    {
     "data": {
      "text/plain": [
       "31.00322388425655"
      ]
     },
     "execution_count": 31,
     "metadata": {},
     "output_type": "execute_result"
    }
   ],
   "source": [
    "mean_squared_error(ytrue_mse, predict)"
   ]
  },
  {
   "cell_type": "markdown",
   "metadata": {},
   "source": [
    "# PROSES MAD"
   ]
  },
  {
   "cell_type": "code",
   "execution_count": 33,
   "metadata": {},
   "outputs": [
    {
     "data": {
      "text/plain": [
       "5.2661538293788555"
      ]
     },
     "execution_count": 33,
     "metadata": {},
     "output_type": "execute_result"
    }
   ],
   "source": [
    "mean_absolute_error(ytrue,predict)"
   ]
  },
  {
   "cell_type": "code",
   "execution_count": null,
   "metadata": {},
   "outputs": [],
   "source": []
  }
 ],
 "metadata": {
  "kernelspec": {
   "display_name": "Python 3",
   "language": "python",
   "name": "python3"
  },
  "language_info": {
   "codemirror_mode": {
    "name": "ipython",
    "version": 3
   },
   "file_extension": ".py",
   "mimetype": "text/x-python",
   "name": "python",
   "nbconvert_exporter": "python",
   "pygments_lexer": "ipython3",
   "version": "3.7.1"
  }
 },
 "nbformat": 4,
 "nbformat_minor": 2
}
